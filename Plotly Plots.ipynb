{
 "cells": [
  {
   "cell_type": "code",
   "execution_count": 59,
   "id": "c48471a7",
   "metadata": {},
   "outputs": [
    {
     "name": "stdout",
     "output_type": "stream",
     "text": [
      "       Country_Region  Confirmed  Deaths   Recovered\n",
      "0                  US   35003424  613412         0.0\n",
      "1               India   31695958  424773  30857467.0\n",
      "2              Brazil   19938358  556834  17771228.0\n",
      "3              France    6210335  112079    413278.0\n",
      "4              Russia    6207513  156726   5556831.0\n",
      "..                ...        ...     ...         ...\n",
      "190  Marshall Islands          4       0         4.0\n",
      "191             Samoa          3       0         3.0\n",
      "192          Kiribati          2       0         0.0\n",
      "193        Micronesia          1       0         1.0\n",
      "194             Palau          0       0         0.0\n",
      "\n",
      "[195 rows x 4 columns]\n"
     ]
    },
    {
     "data": {
      "application/vnd.plotly.v1+json": {
       "config": {
        "plotlyServerURL": "https://plot.ly"
       },
       "data": [
        {
         "customdata": [
          [
           "US",
           35003424,
           0,
           613412
          ],
          [
           "India",
           31695958,
           30857467,
           424773
          ],
          [
           "Brazil",
           19938358,
           17771228,
           556834
          ],
          [
           "France",
           6210335,
           413278,
           112079
          ],
          [
           "Russia",
           6207513,
           5556831,
           156726
          ],
          [
           "United Kingdom",
           5907594,
           21083,
           130014
          ],
          [
           "Turkey",
           5747935,
           5459899,
           51428
          ],
          [
           "Argentina",
           4935847,
           4581132,
           105772
          ],
          [
           "Colombia",
           4794414,
           4587754,
           120998
          ],
          [
           "Spain",
           4447044,
           150376,
           81486
          ],
          [
           "Italy",
           4355348,
           4135930,
           128068
          ],
          [
           "Iran",
           3903519,
           3385195,
           90996
          ],
          [
           "Germany",
           3778277,
           3654720,
           91666
          ],
          [
           "Indonesia",
           3440396,
           2809538,
           95723
          ],
          [
           "Poland",
           2883029,
           2653807,
           75261
          ],
          [
           "Mexico",
           2854992,
           2226594,
           241034
          ],
          [
           "South Africa",
           2456184,
           2230871,
           72191
          ],
          [
           "Ukraine",
           2334433,
           2256053,
           55577
          ],
          [
           "Peru",
           2113201,
           2080424,
           196438
          ],
          [
           "Netherlands",
           1897729,
           28430,
           18117
          ],
          [
           "Czechia",
           1673694,
           1640599,
           30374
          ],
          [
           "Iraq",
           1635993,
           1472093,
           18734
          ],
          [
           "Chile",
           1616942,
           1571788,
           35528
          ],
          [
           "Philippines",
           1597689,
           1506027,
           28016
          ],
          [
           "Canada",
           1438817,
           1404244,
           26601
          ],
          [
           "Bangladesh",
           1264328,
           1093266,
           20916
          ],
          [
           "Malaysia",
           1130422,
           925965,
           9024
          ],
          [
           "Belgium",
           1124715,
           0,
           25241
          ],
          [
           "Sweden",
           1100040,
           0,
           14655
          ],
          [
           "Romania",
           1083341,
           1047767,
           34286
          ],
          [
           "Pakistan",
           1039695,
           943020,
           23462
          ],
          [
           "Portugal",
           970937,
           903514,
           17369
          ],
          [
           "Japan",
           937348,
           839090,
           15211
          ],
          [
           "Israel",
           875801,
           850839,
           6477
          ],
          [
           "Hungary",
           809491,
           748157,
           30026
          ],
          [
           "Jordan",
           771753,
           751177,
           10048
          ],
          [
           "Serbia",
           722221,
           0,
           7118
          ],
          [
           "Switzerland",
           717665,
           317600,
           10794
          ],
          [
           "Nepal",
           697370,
           656197,
           9875
          ],
          [
           "United Arab Emirates",
           682377,
           659664,
           1951
          ],
          [
           "Austria",
           659508,
           643387,
           10738
          ],
          [
           "Kazakhstan",
           649207,
           537722,
           9077
          ],
          [
           "Morocco",
           629717,
           566008,
           9833
          ],
          [
           "Thailand",
           615314,
           26873,
           4990
          ],
          [
           "Tunisia",
           595532,
           516831,
           20067
          ],
          [
           "Lebanon",
           562527,
           537111,
           7909
          ],
          [
           "Saudi Arabia",
           526814,
           507374,
           8249
          ],
          [
           "Greece",
           494907,
           93764,
           12950
          ],
          [
           "Ecuador",
           487598,
           443880,
           31634
          ],
          [
           "Bolivia",
           473899,
           408577,
           17839
          ],
          [
           "Paraguay",
           452698,
           421051,
           15042
          ],
          [
           "Belarus",
           446998,
           441369,
           3464
          ],
          [
           "Panama",
           436475,
           417137,
           6833
          ],
          [
           "Bulgaria",
           425148,
           398554,
           18215
          ],
          [
           "Georgia",
           422188,
           384712,
           5853
          ],
          [
           "Costa Rica",
           406814,
           329639,
           5030
          ],
          [
           "Kuwait",
           398538,
           385401,
           2328
          ],
          [
           "Cuba",
           394343,
           348487,
           2845
          ],
          [
           "Slovakia",
           392704,
           255300,
           12540
          ],
          [
           "Uruguay",
           381569,
           373636,
           5966
          ],
          [
           "Guatemala",
           369626,
           324332,
           10413
          ],
          [
           "Croatia",
           363758,
           354393,
           8263
          ],
          [
           "Azerbaijan",
           344520,
           333128,
           5027
          ],
          [
           "Dominican Republic",
           342267,
           323700,
           3963
          ],
          [
           "Denmark",
           318807,
           304985,
           2551
          ],
          [
           "West Bank and Gaza",
           316861,
           311918,
           3604
          ],
          [
           "Sri Lanka",
           311349,
           278910,
           4503
          ],
          [
           "Venezuela",
           306673,
           291556,
           3607
          ],
          [
           "Burma",
           302665,
           213227,
           9731
          ],
          [
           "Ireland",
           302074,
           23364,
           5035
          ],
          [
           "Honduras",
           297111,
           100697,
           7834
          ],
          [
           "Oman",
           296835,
           279892,
           3850
          ],
          [
           "Egypt",
           284311,
           230699,
           16528
          ],
          [
           "Lithuania",
           283016,
           269323,
           4416
          ],
          [
           "Ethiopia",
           280565,
           263587,
           4390
          ],
          [
           "Bahrain",
           269303,
           266921,
           1384
          ],
          [
           "Moldova",
           259549,
           252104,
           6255
          ],
          [
           "Slovenia",
           259273,
           253763,
           4429
          ],
          [
           "Libya",
           253436,
           192184,
           3548
          ],
          [
           "Armenia",
           230339,
           219986,
           4619
          ],
          [
           "Qatar",
           226390,
           223849,
           601
          ],
          [
           "Bosnia and Herzegovina",
           205655,
           189369,
           9687
          ],
          [
           "Kenya",
           203680,
           189131,
           3946
          ],
          [
           "Korea, South",
           201002,
           176605,
           2099
          ],
          [
           "Zambia",
           196293,
           188106,
           3406
          ],
          [
           "Nigeria",
           174315,
           165005,
           2149
          ],
          [
           "Algeria",
           172564,
           116009,
           4291
          ],
          [
           "Mongolia",
           164155,
           164829,
           815
          ],
          [
           "Kyrgyzstan",
           163846,
           146061,
           2335
          ],
          [
           "Vietnam",
           157507,
           43157,
           1306
          ],
          [
           "North Macedonia",
           156452,
           150371,
           5493
          ],
          [
           "Afghanistan",
           147501,
           82586,
           6737
          ],
          [
           "Latvia",
           138899,
           135583,
           2556
          ],
          [
           "Norway",
           137853,
           17998,
           799
          ],
          [
           "Estonia",
           133685,
           128902,
           1272
          ],
          [
           "Albania",
           133121,
           130243,
           2457
          ],
          [
           "Uzbekistan",
           130216,
           123995,
           880
          ],
          [
           "Mozambique",
           123541,
           90845,
           1462
          ],
          [
           "Namibia",
           119285,
           95913,
           3057
          ],
          [
           "Zimbabwe",
           109546,
           76665,
           3583
          ],
          [
           "Kosovo",
           108465,
           105660,
           2269
          ],
          [
           "Finland",
           107321,
           46000,
           985
          ],
          [
           "Botswana",
           106690,
           95323,
           1569
          ],
          [
           "China",
           105149,
           99150,
           4848
          ],
          [
           "Ghana",
           103019,
           97213,
           823
          ],
          [
           "Cyprus",
           102223,
           39061,
           422
          ],
          [
           "Montenegro",
           102092,
           99011,
           1630
          ],
          [
           "Uganda",
           94195,
           84052,
           2696
          ],
          [
           "El Salvador",
           86620,
           76265,
           2641
          ],
          [
           "Cameroon",
           82064,
           35261,
           1334
          ],
          [
           "Cambodia",
           77914,
           70754,
           1420
          ],
          [
           "Maldives",
           77547,
           74758,
           221
          ],
          [
           "Luxembourg",
           73870,
           71867,
           822
          ],
          [
           "Rwanda",
           71346,
           44856,
           821
          ],
          [
           "Singapore",
           65102,
           62957,
           37
          ],
          [
           "Senegal",
           63002,
           47579,
           1367
          ],
          [
           "Jamaica",
           53237,
           47001,
           1196
          ],
          [
           "Malawi",
           52631,
           38147,
           1661
          ],
          [
           "Cote d'Ivoire",
           50278,
           49389,
           330
          ],
          [
           "Congo (Kinshasa)",
           49917,
           29994,
           1038
          ],
          [
           "Angola",
           42815,
           37397,
           1016
          ],
          [
           "Madagascar",
           42665,
           41151,
           943
          ],
          [
           "Trinidad and Tobago",
           38930,
           31941,
           1084
          ],
          [
           "Sudan",
           37138,
           30647,
           2776
          ],
          [
           "Australia",
           34612,
           24124,
           925
          ],
          [
           "Malta",
           34375,
           31843,
           423
          ],
          [
           "Cabo Verde",
           33822,
           33036,
           298
          ],
          [
           "Fiji",
           30413,
           7942,
           241
          ],
          [
           "Eswatini",
           26220,
           21047,
           798
          ],
          [
           "Syria",
           25983,
           21995,
           1916
          ],
          [
           "Mauritania",
           25973,
           22406,
           567
          ],
          [
           "Guinea",
           25801,
           24242,
           229
          ],
          [
           "Suriname",
           25402,
           21770,
           651
          ],
          [
           "Gabon",
           25384,
           25166,
           164
          ],
          [
           "Guyana",
           22523,
           21183,
           541
          ],
          [
           "Haiti",
           20077,
           12961,
           545
          ],
          [
           "Seychelles",
           18362,
           17538,
           86
          ],
          [
           "Papua New Guinea",
           17717,
           17324,
           192
          ],
          [
           "Togo",
           15870,
           14493,
           153
          ],
          [
           "Taiwan*",
           15688,
           12879,
           789
          ],
          [
           "Tajikistan",
           15550,
           14556,
           122
          ],
          [
           "Somalia",
           15456,
           7567,
           813
          ],
          [
           "Bahamas",
           14840,
           12606,
           287
          ],
          [
           "Andorra",
           14678,
           14210,
           128
          ],
          [
           "Mali",
           14587,
           13948,
           533
          ],
          [
           "Belize",
           14163,
           13420,
           337
          ],
          [
           "Lesotho",
           13603,
           6664,
           377
          ],
          [
           "Burkina Faso",
           13588,
           13369,
           169
          ],
          [
           "Congo (Brazzaville)",
           13186,
           12421,
           178
          ],
          [
           "Djibouti",
           11652,
           11490,
           156
          ],
          [
           "South Sudan",
           11049,
           10514,
           119
          ],
          [
           "Timor-Leste",
           10966,
           9911,
           26
          ],
          [
           "Nicaragua",
           9470,
           4225,
           195
          ],
          [
           "Equatorial Guinea",
           8880,
           8637,
           123
          ],
          [
           "Benin",
           8394,
           8136,
           108
          ],
          [
           "Iceland",
           8051,
           6795,
           30
          ],
          [
           "Gambia",
           7709,
           6600,
           212
          ],
          [
           "Central African Republic",
           7151,
           6859,
           98
          ],
          [
           "Burundi",
           7080,
           773,
           9
          ],
          [
           "Yemen",
           7070,
           4200,
           1377
          ],
          [
           "Laos",
           6566,
           3030,
           7
          ],
          [
           "Eritrea",
           6547,
           6444,
           35
          ],
          [
           "Sierra Leone",
           6283,
           4270,
           120
          ],
          [
           "Niger",
           5637,
           5345,
           195
          ],
          [
           "Saint Lucia",
           5610,
           5377,
           89
          ],
          [
           "Liberia",
           5404,
           2715,
           148
          ],
          [
           "San Marino",
           5143,
           5005,
           90
          ],
          [
           "Chad",
           4973,
           4793,
           174
          ],
          [
           "Guinea-Bissau",
           4498,
           3968,
           76
          ],
          [
           "Barbados",
           4407,
           4229,
           48
          ],
          [
           "Comoros",
           4028,
           3869,
           147
          ],
          [
           "Mauritius",
           3913,
           1854,
           19
          ],
          [
           "Liechtenstein",
           3085,
           3009,
           59
          ],
          [
           "Monaco",
           2891,
           2715,
           33
          ],
          [
           "New Zealand",
           2878,
           2814,
           26
          ],
          [
           "Bhutan",
           2518,
           2384,
           2
          ],
          [
           "Sao Tome and Principe",
           2454,
           2358,
           37
          ],
          [
           "Saint Vincent and the Grenadines",
           2291,
           2229,
           12
          ],
          [
           "Antigua and Barbuda",
           1303,
           1235,
           43
          ],
          [
           "Tanzania",
           1017,
           183,
           21
          ],
          [
           "Diamond Princess",
           712,
           699,
           13
          ],
          [
           "Saint Kitts and Nevis",
           594,
           546,
           3
          ],
          [
           "Brunei",
           337,
           280,
           3
          ],
          [
           "Summer Olympics 2020",
           264,
           0,
           0
          ],
          [
           "Dominica",
           218,
           209,
           0
          ],
          [
           "Grenada",
           164,
           161,
           1
          ],
          [
           "Holy See",
           27,
           27,
           0
          ],
          [
           "Solomon Islands",
           20,
           20,
           0
          ],
          [
           "MS Zaandam",
           9,
           7,
           2
          ],
          [
           "Vanuatu",
           4,
           3,
           1
          ],
          [
           "Marshall Islands",
           4,
           4,
           0
          ],
          [
           "Samoa",
           3,
           3,
           0
          ],
          [
           "Kiribati",
           2,
           0,
           0
          ],
          [
           "Micronesia",
           1,
           1,
           0
          ],
          [
           "Palau",
           0,
           0,
           0
          ]
         ],
         "geo": "geo",
         "hovertemplate": "<b>%{hovertext}</b><br><br>Confirmed=%{marker.color:,.0f}<br>Recovered=%{customdata[2]:,.0f}<br>Deaths=%{customdata[3]:,.0f}<extra></extra>",
         "hovertext": [
          "US",
          "India",
          "Brazil",
          "France",
          "Russia",
          "United Kingdom",
          "Turkey",
          "Argentina",
          "Colombia",
          "Spain",
          "Italy",
          "Iran",
          "Germany",
          "Indonesia",
          "Poland",
          "Mexico",
          "South Africa",
          "Ukraine",
          "Peru",
          "Netherlands",
          "Czechia",
          "Iraq",
          "Chile",
          "Philippines",
          "Canada",
          "Bangladesh",
          "Malaysia",
          "Belgium",
          "Sweden",
          "Romania",
          "Pakistan",
          "Portugal",
          "Japan",
          "Israel",
          "Hungary",
          "Jordan",
          "Serbia",
          "Switzerland",
          "Nepal",
          "United Arab Emirates",
          "Austria",
          "Kazakhstan",
          "Morocco",
          "Thailand",
          "Tunisia",
          "Lebanon",
          "Saudi Arabia",
          "Greece",
          "Ecuador",
          "Bolivia",
          "Paraguay",
          "Belarus",
          "Panama",
          "Bulgaria",
          "Georgia",
          "Costa Rica",
          "Kuwait",
          "Cuba",
          "Slovakia",
          "Uruguay",
          "Guatemala",
          "Croatia",
          "Azerbaijan",
          "Dominican Republic",
          "Denmark",
          "West Bank and Gaza",
          "Sri Lanka",
          "Venezuela",
          "Burma",
          "Ireland",
          "Honduras",
          "Oman",
          "Egypt",
          "Lithuania",
          "Ethiopia",
          "Bahrain",
          "Moldova",
          "Slovenia",
          "Libya",
          "Armenia",
          "Qatar",
          "Bosnia and Herzegovina",
          "Kenya",
          "Korea, South",
          "Zambia",
          "Nigeria",
          "Algeria",
          "Mongolia",
          "Kyrgyzstan",
          "Vietnam",
          "North Macedonia",
          "Afghanistan",
          "Latvia",
          "Norway",
          "Estonia",
          "Albania",
          "Uzbekistan",
          "Mozambique",
          "Namibia",
          "Zimbabwe",
          "Kosovo",
          "Finland",
          "Botswana",
          "China",
          "Ghana",
          "Cyprus",
          "Montenegro",
          "Uganda",
          "El Salvador",
          "Cameroon",
          "Cambodia",
          "Maldives",
          "Luxembourg",
          "Rwanda",
          "Singapore",
          "Senegal",
          "Jamaica",
          "Malawi",
          "Cote d'Ivoire",
          "Congo (Kinshasa)",
          "Angola",
          "Madagascar",
          "Trinidad and Tobago",
          "Sudan",
          "Australia",
          "Malta",
          "Cabo Verde",
          "Fiji",
          "Eswatini",
          "Syria",
          "Mauritania",
          "Guinea",
          "Suriname",
          "Gabon",
          "Guyana",
          "Haiti",
          "Seychelles",
          "Papua New Guinea",
          "Togo",
          "Taiwan*",
          "Tajikistan",
          "Somalia",
          "Bahamas",
          "Andorra",
          "Mali",
          "Belize",
          "Lesotho",
          "Burkina Faso",
          "Congo (Brazzaville)",
          "Djibouti",
          "South Sudan",
          "Timor-Leste",
          "Nicaragua",
          "Equatorial Guinea",
          "Benin",
          "Iceland",
          "Gambia",
          "Central African Republic",
          "Burundi",
          "Yemen",
          "Laos",
          "Eritrea",
          "Sierra Leone",
          "Niger",
          "Saint Lucia",
          "Liberia",
          "San Marino",
          "Chad",
          "Guinea-Bissau",
          "Barbados",
          "Comoros",
          "Mauritius",
          "Liechtenstein",
          "Monaco",
          "New Zealand",
          "Bhutan",
          "Sao Tome and Principe",
          "Saint Vincent and the Grenadines",
          "Antigua and Barbuda",
          "Tanzania",
          "Diamond Princess",
          "Saint Kitts and Nevis",
          "Brunei",
          "Summer Olympics 2020",
          "Dominica",
          "Grenada",
          "Holy See",
          "Solomon Islands",
          "MS Zaandam",
          "Vanuatu",
          "Marshall Islands",
          "Samoa",
          "Kiribati",
          "Micronesia",
          "Palau"
         ],
         "legendgroup": "",
         "locationmode": "country names",
         "locations": [
          "US",
          "India",
          "Brazil",
          "France",
          "Russia",
          "United Kingdom",
          "Turkey",
          "Argentina",
          "Colombia",
          "Spain",
          "Italy",
          "Iran",
          "Germany",
          "Indonesia",
          "Poland",
          "Mexico",
          "South Africa",
          "Ukraine",
          "Peru",
          "Netherlands",
          "Czechia",
          "Iraq",
          "Chile",
          "Philippines",
          "Canada",
          "Bangladesh",
          "Malaysia",
          "Belgium",
          "Sweden",
          "Romania",
          "Pakistan",
          "Portugal",
          "Japan",
          "Israel",
          "Hungary",
          "Jordan",
          "Serbia",
          "Switzerland",
          "Nepal",
          "United Arab Emirates",
          "Austria",
          "Kazakhstan",
          "Morocco",
          "Thailand",
          "Tunisia",
          "Lebanon",
          "Saudi Arabia",
          "Greece",
          "Ecuador",
          "Bolivia",
          "Paraguay",
          "Belarus",
          "Panama",
          "Bulgaria",
          "Georgia",
          "Costa Rica",
          "Kuwait",
          "Cuba",
          "Slovakia",
          "Uruguay",
          "Guatemala",
          "Croatia",
          "Azerbaijan",
          "Dominican Republic",
          "Denmark",
          "West Bank and Gaza",
          "Sri Lanka",
          "Venezuela",
          "Burma",
          "Ireland",
          "Honduras",
          "Oman",
          "Egypt",
          "Lithuania",
          "Ethiopia",
          "Bahrain",
          "Moldova",
          "Slovenia",
          "Libya",
          "Armenia",
          "Qatar",
          "Bosnia and Herzegovina",
          "Kenya",
          "Korea, South",
          "Zambia",
          "Nigeria",
          "Algeria",
          "Mongolia",
          "Kyrgyzstan",
          "Vietnam",
          "North Macedonia",
          "Afghanistan",
          "Latvia",
          "Norway",
          "Estonia",
          "Albania",
          "Uzbekistan",
          "Mozambique",
          "Namibia",
          "Zimbabwe",
          "Kosovo",
          "Finland",
          "Botswana",
          "China",
          "Ghana",
          "Cyprus",
          "Montenegro",
          "Uganda",
          "El Salvador",
          "Cameroon",
          "Cambodia",
          "Maldives",
          "Luxembourg",
          "Rwanda",
          "Singapore",
          "Senegal",
          "Jamaica",
          "Malawi",
          "Cote d'Ivoire",
          "Congo (Kinshasa)",
          "Angola",
          "Madagascar",
          "Trinidad and Tobago",
          "Sudan",
          "Australia",
          "Malta",
          "Cabo Verde",
          "Fiji",
          "Eswatini",
          "Syria",
          "Mauritania",
          "Guinea",
          "Suriname",
          "Gabon",
          "Guyana",
          "Haiti",
          "Seychelles",
          "Papua New Guinea",
          "Togo",
          "Taiwan*",
          "Tajikistan",
          "Somalia",
          "Bahamas",
          "Andorra",
          "Mali",
          "Belize",
          "Lesotho",
          "Burkina Faso",
          "Congo (Brazzaville)",
          "Djibouti",
          "South Sudan",
          "Timor-Leste",
          "Nicaragua",
          "Equatorial Guinea",
          "Benin",
          "Iceland",
          "Gambia",
          "Central African Republic",
          "Burundi",
          "Yemen",
          "Laos",
          "Eritrea",
          "Sierra Leone",
          "Niger",
          "Saint Lucia",
          "Liberia",
          "San Marino",
          "Chad",
          "Guinea-Bissau",
          "Barbados",
          "Comoros",
          "Mauritius",
          "Liechtenstein",
          "Monaco",
          "New Zealand",
          "Bhutan",
          "Sao Tome and Principe",
          "Saint Vincent and the Grenadines",
          "Antigua and Barbuda",
          "Tanzania",
          "Diamond Princess",
          "Saint Kitts and Nevis",
          "Brunei",
          "Summer Olympics 2020",
          "Dominica",
          "Grenada",
          "Holy See",
          "Solomon Islands",
          "MS Zaandam",
          "Vanuatu",
          "Marshall Islands",
          "Samoa",
          "Kiribati",
          "Micronesia",
          "Palau"
         ],
         "marker": {
          "color": [
           35003424,
           31695958,
           19938358,
           6210335,
           6207513,
           5907594,
           5747935,
           4935847,
           4794414,
           4447044,
           4355348,
           3903519,
           3778277,
           3440396,
           2883029,
           2854992,
           2456184,
           2334433,
           2113201,
           1897729,
           1673694,
           1635993,
           1616942,
           1597689,
           1438817,
           1264328,
           1130422,
           1124715,
           1100040,
           1083341,
           1039695,
           970937,
           937348,
           875801,
           809491,
           771753,
           722221,
           717665,
           697370,
           682377,
           659508,
           649207,
           629717,
           615314,
           595532,
           562527,
           526814,
           494907,
           487598,
           473899,
           452698,
           446998,
           436475,
           425148,
           422188,
           406814,
           398538,
           394343,
           392704,
           381569,
           369626,
           363758,
           344520,
           342267,
           318807,
           316861,
           311349,
           306673,
           302665,
           302074,
           297111,
           296835,
           284311,
           283016,
           280565,
           269303,
           259549,
           259273,
           253436,
           230339,
           226390,
           205655,
           203680,
           201002,
           196293,
           174315,
           172564,
           164155,
           163846,
           157507,
           156452,
           147501,
           138899,
           137853,
           133685,
           133121,
           130216,
           123541,
           119285,
           109546,
           108465,
           107321,
           106690,
           105149,
           103019,
           102223,
           102092,
           94195,
           86620,
           82064,
           77914,
           77547,
           73870,
           71346,
           65102,
           63002,
           53237,
           52631,
           50278,
           49917,
           42815,
           42665,
           38930,
           37138,
           34612,
           34375,
           33822,
           30413,
           26220,
           25983,
           25973,
           25801,
           25402,
           25384,
           22523,
           20077,
           18362,
           17717,
           15870,
           15688,
           15550,
           15456,
           14840,
           14678,
           14587,
           14163,
           13603,
           13588,
           13186,
           11652,
           11049,
           10966,
           9470,
           8880,
           8394,
           8051,
           7709,
           7151,
           7080,
           7070,
           6566,
           6547,
           6283,
           5637,
           5610,
           5404,
           5143,
           4973,
           4498,
           4407,
           4028,
           3913,
           3085,
           2891,
           2878,
           2518,
           2454,
           2291,
           1303,
           1017,
           712,
           594,
           337,
           264,
           218,
           164,
           27,
           20,
           9,
           4,
           4,
           3,
           2,
           1,
           0
          ],
          "coloraxis": "coloraxis",
          "size": [
           35003424,
           31695958,
           19938358,
           6210335,
           6207513,
           5907594,
           5747935,
           4935847,
           4794414,
           4447044,
           4355348,
           3903519,
           3778277,
           3440396,
           2883029,
           2854992,
           2456184,
           2334433,
           2113201,
           1897729,
           1673694,
           1635993,
           1616942,
           1597689,
           1438817,
           1264328,
           1130422,
           1124715,
           1100040,
           1083341,
           1039695,
           970937,
           937348,
           875801,
           809491,
           771753,
           722221,
           717665,
           697370,
           682377,
           659508,
           649207,
           629717,
           615314,
           595532,
           562527,
           526814,
           494907,
           487598,
           473899,
           452698,
           446998,
           436475,
           425148,
           422188,
           406814,
           398538,
           394343,
           392704,
           381569,
           369626,
           363758,
           344520,
           342267,
           318807,
           316861,
           311349,
           306673,
           302665,
           302074,
           297111,
           296835,
           284311,
           283016,
           280565,
           269303,
           259549,
           259273,
           253436,
           230339,
           226390,
           205655,
           203680,
           201002,
           196293,
           174315,
           172564,
           164155,
           163846,
           157507,
           156452,
           147501,
           138899,
           137853,
           133685,
           133121,
           130216,
           123541,
           119285,
           109546,
           108465,
           107321,
           106690,
           105149,
           103019,
           102223,
           102092,
           94195,
           86620,
           82064,
           77914,
           77547,
           73870,
           71346,
           65102,
           63002,
           53237,
           52631,
           50278,
           49917,
           42815,
           42665,
           38930,
           37138,
           34612,
           34375,
           33822,
           30413,
           26220,
           25983,
           25973,
           25801,
           25402,
           25384,
           22523,
           20077,
           18362,
           17717,
           15870,
           15688,
           15550,
           15456,
           14840,
           14678,
           14587,
           14163,
           13603,
           13588,
           13186,
           11652,
           11049,
           10966,
           9470,
           8880,
           8394,
           8051,
           7709,
           7151,
           7080,
           7070,
           6566,
           6547,
           6283,
           5637,
           5610,
           5404,
           5143,
           4973,
           4498,
           4407,
           4028,
           3913,
           3085,
           2891,
           2878,
           2518,
           2454,
           2291,
           1303,
           1017,
           712,
           594,
           337,
           264,
           218,
           164,
           27,
           20,
           9,
           4,
           4,
           3,
           2,
           1,
           0
          ],
          "sizemode": "area",
          "sizeref": 14001.3696,
          "symbol": "circle"
         },
         "mode": "markers",
         "name": "",
         "showlegend": false,
         "type": "scattergeo"
        }
       ],
       "layout": {
        "coloraxis": {
         "colorbar": {
          "title": {
           "text": "Confirmed"
          }
         },
         "colorscale": [
          [
           0,
           "#0d0887"
          ],
          [
           0.1111111111111111,
           "#46039f"
          ],
          [
           0.2222222222222222,
           "#7201a8"
          ],
          [
           0.3333333333333333,
           "#9c179e"
          ],
          [
           0.4444444444444444,
           "#bd3786"
          ],
          [
           0.5555555555555556,
           "#d8576b"
          ],
          [
           0.6666666666666666,
           "#ed7953"
          ],
          [
           0.7777777777777778,
           "#fb9f3a"
          ],
          [
           0.8888888888888888,
           "#fdca26"
          ],
          [
           1,
           "#f0f921"
          ]
         ]
        },
        "geo": {
         "center": {},
         "domain": {
          "x": [
           0,
           1
          ],
          "y": [
           0,
           1
          ]
         }
        },
        "legend": {
         "itemsizing": "constant",
         "tracegroupgap": 0
        },
        "margin": {
         "t": 60
        },
        "template": {
         "data": {
          "bar": [
           {
            "error_x": {
             "color": "#f2f5fa"
            },
            "error_y": {
             "color": "#f2f5fa"
            },
            "marker": {
             "line": {
              "color": "rgb(17,17,17)",
              "width": 0.5
             },
             "pattern": {
              "fillmode": "overlay",
              "size": 10,
              "solidity": 0.2
             }
            },
            "type": "bar"
           }
          ],
          "barpolar": [
           {
            "marker": {
             "line": {
              "color": "rgb(17,17,17)",
              "width": 0.5
             },
             "pattern": {
              "fillmode": "overlay",
              "size": 10,
              "solidity": 0.2
             }
            },
            "type": "barpolar"
           }
          ],
          "carpet": [
           {
            "aaxis": {
             "endlinecolor": "#A2B1C6",
             "gridcolor": "#506784",
             "linecolor": "#506784",
             "minorgridcolor": "#506784",
             "startlinecolor": "#A2B1C6"
            },
            "baxis": {
             "endlinecolor": "#A2B1C6",
             "gridcolor": "#506784",
             "linecolor": "#506784",
             "minorgridcolor": "#506784",
             "startlinecolor": "#A2B1C6"
            },
            "type": "carpet"
           }
          ],
          "choropleth": [
           {
            "colorbar": {
             "outlinewidth": 0,
             "ticks": ""
            },
            "type": "choropleth"
           }
          ],
          "contour": [
           {
            "colorbar": {
             "outlinewidth": 0,
             "ticks": ""
            },
            "colorscale": [
             [
              0,
              "#0d0887"
             ],
             [
              0.1111111111111111,
              "#46039f"
             ],
             [
              0.2222222222222222,
              "#7201a8"
             ],
             [
              0.3333333333333333,
              "#9c179e"
             ],
             [
              0.4444444444444444,
              "#bd3786"
             ],
             [
              0.5555555555555556,
              "#d8576b"
             ],
             [
              0.6666666666666666,
              "#ed7953"
             ],
             [
              0.7777777777777778,
              "#fb9f3a"
             ],
             [
              0.8888888888888888,
              "#fdca26"
             ],
             [
              1,
              "#f0f921"
             ]
            ],
            "type": "contour"
           }
          ],
          "contourcarpet": [
           {
            "colorbar": {
             "outlinewidth": 0,
             "ticks": ""
            },
            "type": "contourcarpet"
           }
          ],
          "heatmap": [
           {
            "colorbar": {
             "outlinewidth": 0,
             "ticks": ""
            },
            "colorscale": [
             [
              0,
              "#0d0887"
             ],
             [
              0.1111111111111111,
              "#46039f"
             ],
             [
              0.2222222222222222,
              "#7201a8"
             ],
             [
              0.3333333333333333,
              "#9c179e"
             ],
             [
              0.4444444444444444,
              "#bd3786"
             ],
             [
              0.5555555555555556,
              "#d8576b"
             ],
             [
              0.6666666666666666,
              "#ed7953"
             ],
             [
              0.7777777777777778,
              "#fb9f3a"
             ],
             [
              0.8888888888888888,
              "#fdca26"
             ],
             [
              1,
              "#f0f921"
             ]
            ],
            "type": "heatmap"
           }
          ],
          "heatmapgl": [
           {
            "colorbar": {
             "outlinewidth": 0,
             "ticks": ""
            },
            "colorscale": [
             [
              0,
              "#0d0887"
             ],
             [
              0.1111111111111111,
              "#46039f"
             ],
             [
              0.2222222222222222,
              "#7201a8"
             ],
             [
              0.3333333333333333,
              "#9c179e"
             ],
             [
              0.4444444444444444,
              "#bd3786"
             ],
             [
              0.5555555555555556,
              "#d8576b"
             ],
             [
              0.6666666666666666,
              "#ed7953"
             ],
             [
              0.7777777777777778,
              "#fb9f3a"
             ],
             [
              0.8888888888888888,
              "#fdca26"
             ],
             [
              1,
              "#f0f921"
             ]
            ],
            "type": "heatmapgl"
           }
          ],
          "histogram": [
           {
            "marker": {
             "pattern": {
              "fillmode": "overlay",
              "size": 10,
              "solidity": 0.2
             }
            },
            "type": "histogram"
           }
          ],
          "histogram2d": [
           {
            "colorbar": {
             "outlinewidth": 0,
             "ticks": ""
            },
            "colorscale": [
             [
              0,
              "#0d0887"
             ],
             [
              0.1111111111111111,
              "#46039f"
             ],
             [
              0.2222222222222222,
              "#7201a8"
             ],
             [
              0.3333333333333333,
              "#9c179e"
             ],
             [
              0.4444444444444444,
              "#bd3786"
             ],
             [
              0.5555555555555556,
              "#d8576b"
             ],
             [
              0.6666666666666666,
              "#ed7953"
             ],
             [
              0.7777777777777778,
              "#fb9f3a"
             ],
             [
              0.8888888888888888,
              "#fdca26"
             ],
             [
              1,
              "#f0f921"
             ]
            ],
            "type": "histogram2d"
           }
          ],
          "histogram2dcontour": [
           {
            "colorbar": {
             "outlinewidth": 0,
             "ticks": ""
            },
            "colorscale": [
             [
              0,
              "#0d0887"
             ],
             [
              0.1111111111111111,
              "#46039f"
             ],
             [
              0.2222222222222222,
              "#7201a8"
             ],
             [
              0.3333333333333333,
              "#9c179e"
             ],
             [
              0.4444444444444444,
              "#bd3786"
             ],
             [
              0.5555555555555556,
              "#d8576b"
             ],
             [
              0.6666666666666666,
              "#ed7953"
             ],
             [
              0.7777777777777778,
              "#fb9f3a"
             ],
             [
              0.8888888888888888,
              "#fdca26"
             ],
             [
              1,
              "#f0f921"
             ]
            ],
            "type": "histogram2dcontour"
           }
          ],
          "mesh3d": [
           {
            "colorbar": {
             "outlinewidth": 0,
             "ticks": ""
            },
            "type": "mesh3d"
           }
          ],
          "parcoords": [
           {
            "line": {
             "colorbar": {
              "outlinewidth": 0,
              "ticks": ""
             }
            },
            "type": "parcoords"
           }
          ],
          "pie": [
           {
            "automargin": true,
            "type": "pie"
           }
          ],
          "scatter": [
           {
            "marker": {
             "line": {
              "color": "#283442"
             }
            },
            "type": "scatter"
           }
          ],
          "scatter3d": [
           {
            "line": {
             "colorbar": {
              "outlinewidth": 0,
              "ticks": ""
             }
            },
            "marker": {
             "colorbar": {
              "outlinewidth": 0,
              "ticks": ""
             }
            },
            "type": "scatter3d"
           }
          ],
          "scattercarpet": [
           {
            "marker": {
             "colorbar": {
              "outlinewidth": 0,
              "ticks": ""
             }
            },
            "type": "scattercarpet"
           }
          ],
          "scattergeo": [
           {
            "marker": {
             "colorbar": {
              "outlinewidth": 0,
              "ticks": ""
             }
            },
            "type": "scattergeo"
           }
          ],
          "scattergl": [
           {
            "marker": {
             "line": {
              "color": "#283442"
             }
            },
            "type": "scattergl"
           }
          ],
          "scattermapbox": [
           {
            "marker": {
             "colorbar": {
              "outlinewidth": 0,
              "ticks": ""
             }
            },
            "type": "scattermapbox"
           }
          ],
          "scatterpolar": [
           {
            "marker": {
             "colorbar": {
              "outlinewidth": 0,
              "ticks": ""
             }
            },
            "type": "scatterpolar"
           }
          ],
          "scatterpolargl": [
           {
            "marker": {
             "colorbar": {
              "outlinewidth": 0,
              "ticks": ""
             }
            },
            "type": "scatterpolargl"
           }
          ],
          "scatterternary": [
           {
            "marker": {
             "colorbar": {
              "outlinewidth": 0,
              "ticks": ""
             }
            },
            "type": "scatterternary"
           }
          ],
          "surface": [
           {
            "colorbar": {
             "outlinewidth": 0,
             "ticks": ""
            },
            "colorscale": [
             [
              0,
              "#0d0887"
             ],
             [
              0.1111111111111111,
              "#46039f"
             ],
             [
              0.2222222222222222,
              "#7201a8"
             ],
             [
              0.3333333333333333,
              "#9c179e"
             ],
             [
              0.4444444444444444,
              "#bd3786"
             ],
             [
              0.5555555555555556,
              "#d8576b"
             ],
             [
              0.6666666666666666,
              "#ed7953"
             ],
             [
              0.7777777777777778,
              "#fb9f3a"
             ],
             [
              0.8888888888888888,
              "#fdca26"
             ],
             [
              1,
              "#f0f921"
             ]
            ],
            "type": "surface"
           }
          ],
          "table": [
           {
            "cells": {
             "fill": {
              "color": "#506784"
             },
             "line": {
              "color": "rgb(17,17,17)"
             }
            },
            "header": {
             "fill": {
              "color": "#2a3f5f"
             },
             "line": {
              "color": "rgb(17,17,17)"
             }
            },
            "type": "table"
           }
          ]
         },
         "layout": {
          "annotationdefaults": {
           "arrowcolor": "#f2f5fa",
           "arrowhead": 0,
           "arrowwidth": 1
          },
          "autotypenumbers": "strict",
          "coloraxis": {
           "colorbar": {
            "outlinewidth": 0,
            "ticks": ""
           }
          },
          "colorscale": {
           "diverging": [
            [
             0,
             "#8e0152"
            ],
            [
             0.1,
             "#c51b7d"
            ],
            [
             0.2,
             "#de77ae"
            ],
            [
             0.3,
             "#f1b6da"
            ],
            [
             0.4,
             "#fde0ef"
            ],
            [
             0.5,
             "#f7f7f7"
            ],
            [
             0.6,
             "#e6f5d0"
            ],
            [
             0.7,
             "#b8e186"
            ],
            [
             0.8,
             "#7fbc41"
            ],
            [
             0.9,
             "#4d9221"
            ],
            [
             1,
             "#276419"
            ]
           ],
           "sequential": [
            [
             0,
             "#0d0887"
            ],
            [
             0.1111111111111111,
             "#46039f"
            ],
            [
             0.2222222222222222,
             "#7201a8"
            ],
            [
             0.3333333333333333,
             "#9c179e"
            ],
            [
             0.4444444444444444,
             "#bd3786"
            ],
            [
             0.5555555555555556,
             "#d8576b"
            ],
            [
             0.6666666666666666,
             "#ed7953"
            ],
            [
             0.7777777777777778,
             "#fb9f3a"
            ],
            [
             0.8888888888888888,
             "#fdca26"
            ],
            [
             1,
             "#f0f921"
            ]
           ],
           "sequentialminus": [
            [
             0,
             "#0d0887"
            ],
            [
             0.1111111111111111,
             "#46039f"
            ],
            [
             0.2222222222222222,
             "#7201a8"
            ],
            [
             0.3333333333333333,
             "#9c179e"
            ],
            [
             0.4444444444444444,
             "#bd3786"
            ],
            [
             0.5555555555555556,
             "#d8576b"
            ],
            [
             0.6666666666666666,
             "#ed7953"
            ],
            [
             0.7777777777777778,
             "#fb9f3a"
            ],
            [
             0.8888888888888888,
             "#fdca26"
            ],
            [
             1,
             "#f0f921"
            ]
           ]
          },
          "colorway": [
           "#636efa",
           "#EF553B",
           "#00cc96",
           "#ab63fa",
           "#FFA15A",
           "#19d3f3",
           "#FF6692",
           "#B6E880",
           "#FF97FF",
           "#FECB52"
          ],
          "font": {
           "color": "#f2f5fa"
          },
          "geo": {
           "bgcolor": "rgb(17,17,17)",
           "lakecolor": "rgb(17,17,17)",
           "landcolor": "rgb(17,17,17)",
           "showlakes": true,
           "showland": true,
           "subunitcolor": "#506784"
          },
          "hoverlabel": {
           "align": "left"
          },
          "hovermode": "closest",
          "mapbox": {
           "style": "dark"
          },
          "paper_bgcolor": "rgb(17,17,17)",
          "plot_bgcolor": "rgb(17,17,17)",
          "polar": {
           "angularaxis": {
            "gridcolor": "#506784",
            "linecolor": "#506784",
            "ticks": ""
           },
           "bgcolor": "rgb(17,17,17)",
           "radialaxis": {
            "gridcolor": "#506784",
            "linecolor": "#506784",
            "ticks": ""
           }
          },
          "scene": {
           "xaxis": {
            "backgroundcolor": "rgb(17,17,17)",
            "gridcolor": "#506784",
            "gridwidth": 2,
            "linecolor": "#506784",
            "showbackground": true,
            "ticks": "",
            "zerolinecolor": "#C8D4E3"
           },
           "yaxis": {
            "backgroundcolor": "rgb(17,17,17)",
            "gridcolor": "#506784",
            "gridwidth": 2,
            "linecolor": "#506784",
            "showbackground": true,
            "ticks": "",
            "zerolinecolor": "#C8D4E3"
           },
           "zaxis": {
            "backgroundcolor": "rgb(17,17,17)",
            "gridcolor": "#506784",
            "gridwidth": 2,
            "linecolor": "#506784",
            "showbackground": true,
            "ticks": "",
            "zerolinecolor": "#C8D4E3"
           }
          },
          "shapedefaults": {
           "line": {
            "color": "#f2f5fa"
           }
          },
          "sliderdefaults": {
           "bgcolor": "#C8D4E3",
           "bordercolor": "rgb(17,17,17)",
           "borderwidth": 1,
           "tickwidth": 0
          },
          "ternary": {
           "aaxis": {
            "gridcolor": "#506784",
            "linecolor": "#506784",
            "ticks": ""
           },
           "baxis": {
            "gridcolor": "#506784",
            "linecolor": "#506784",
            "ticks": ""
           },
           "bgcolor": "rgb(17,17,17)",
           "caxis": {
            "gridcolor": "#506784",
            "linecolor": "#506784",
            "ticks": ""
           }
          },
          "title": {
           "x": 0.05
          },
          "updatemenudefaults": {
           "bgcolor": "#506784",
           "borderwidth": 0
          },
          "xaxis": {
           "automargin": true,
           "gridcolor": "#283442",
           "linecolor": "#506784",
           "ticks": "",
           "title": {
            "standoff": 15
           },
           "zerolinecolor": "#283442",
           "zerolinewidth": 2
          },
          "yaxis": {
           "automargin": true,
           "gridcolor": "#283442",
           "linecolor": "#506784",
           "ticks": "",
           "title": {
            "standoff": 15
           },
           "zerolinecolor": "#283442",
           "zerolinewidth": 2
          }
         }
        }
       }
      },
      "text/html": [
       "<div>                            <div id=\"973fd59c-7cdd-4b8b-a2bb-d0594f24df7d\" class=\"plotly-graph-div\" style=\"height:525px; width:100%;\"></div>            <script type=\"text/javascript\">                require([\"plotly\"], function(Plotly) {                    window.PLOTLYENV=window.PLOTLYENV || {};                                    if (document.getElementById(\"973fd59c-7cdd-4b8b-a2bb-d0594f24df7d\")) {                    Plotly.newPlot(                        \"973fd59c-7cdd-4b8b-a2bb-d0594f24df7d\",                        [{\"customdata\":[[\"US\",35003424,0.0,613412],[\"India\",31695958,30857467.0,424773],[\"Brazil\",19938358,17771228.0,556834],[\"France\",6210335,413278.0,112079],[\"Russia\",6207513,5556831.0,156726],[\"United Kingdom\",5907594,21083.0,130014],[\"Turkey\",5747935,5459899.0,51428],[\"Argentina\",4935847,4581132.0,105772],[\"Colombia\",4794414,4587754.0,120998],[\"Spain\",4447044,150376.0,81486],[\"Italy\",4355348,4135930.0,128068],[\"Iran\",3903519,3385195.0,90996],[\"Germany\",3778277,3654720.0,91666],[\"Indonesia\",3440396,2809538.0,95723],[\"Poland\",2883029,2653807.0,75261],[\"Mexico\",2854992,2226594.0,241034],[\"South Africa\",2456184,2230871.0,72191],[\"Ukraine\",2334433,2256053.0,55577],[\"Peru\",2113201,2080424.0,196438],[\"Netherlands\",1897729,28430.0,18117],[\"Czechia\",1673694,1640599.0,30374],[\"Iraq\",1635993,1472093.0,18734],[\"Chile\",1616942,1571788.0,35528],[\"Philippines\",1597689,1506027.0,28016],[\"Canada\",1438817,1404244.0,26601],[\"Bangladesh\",1264328,1093266.0,20916],[\"Malaysia\",1130422,925965.0,9024],[\"Belgium\",1124715,0.0,25241],[\"Sweden\",1100040,0.0,14655],[\"Romania\",1083341,1047767.0,34286],[\"Pakistan\",1039695,943020.0,23462],[\"Portugal\",970937,903514.0,17369],[\"Japan\",937348,839090.0,15211],[\"Israel\",875801,850839.0,6477],[\"Hungary\",809491,748157.0,30026],[\"Jordan\",771753,751177.0,10048],[\"Serbia\",722221,0.0,7118],[\"Switzerland\",717665,317600.0,10794],[\"Nepal\",697370,656197.0,9875],[\"United Arab Emirates\",682377,659664.0,1951],[\"Austria\",659508,643387.0,10738],[\"Kazakhstan\",649207,537722.0,9077],[\"Morocco\",629717,566008.0,9833],[\"Thailand\",615314,26873.0,4990],[\"Tunisia\",595532,516831.0,20067],[\"Lebanon\",562527,537111.0,7909],[\"Saudi Arabia\",526814,507374.0,8249],[\"Greece\",494907,93764.0,12950],[\"Ecuador\",487598,443880.0,31634],[\"Bolivia\",473899,408577.0,17839],[\"Paraguay\",452698,421051.0,15042],[\"Belarus\",446998,441369.0,3464],[\"Panama\",436475,417137.0,6833],[\"Bulgaria\",425148,398554.0,18215],[\"Georgia\",422188,384712.0,5853],[\"Costa Rica\",406814,329639.0,5030],[\"Kuwait\",398538,385401.0,2328],[\"Cuba\",394343,348487.0,2845],[\"Slovakia\",392704,255300.0,12540],[\"Uruguay\",381569,373636.0,5966],[\"Guatemala\",369626,324332.0,10413],[\"Croatia\",363758,354393.0,8263],[\"Azerbaijan\",344520,333128.0,5027],[\"Dominican Republic\",342267,323700.0,3963],[\"Denmark\",318807,304985.0,2551],[\"West Bank and Gaza\",316861,311918.0,3604],[\"Sri Lanka\",311349,278910.0,4503],[\"Venezuela\",306673,291556.0,3607],[\"Burma\",302665,213227.0,9731],[\"Ireland\",302074,23364.0,5035],[\"Honduras\",297111,100697.0,7834],[\"Oman\",296835,279892.0,3850],[\"Egypt\",284311,230699.0,16528],[\"Lithuania\",283016,269323.0,4416],[\"Ethiopia\",280565,263587.0,4390],[\"Bahrain\",269303,266921.0,1384],[\"Moldova\",259549,252104.0,6255],[\"Slovenia\",259273,253763.0,4429],[\"Libya\",253436,192184.0,3548],[\"Armenia\",230339,219986.0,4619],[\"Qatar\",226390,223849.0,601],[\"Bosnia and Herzegovina\",205655,189369.0,9687],[\"Kenya\",203680,189131.0,3946],[\"Korea, South\",201002,176605.0,2099],[\"Zambia\",196293,188106.0,3406],[\"Nigeria\",174315,165005.0,2149],[\"Algeria\",172564,116009.0,4291],[\"Mongolia\",164155,164829.0,815],[\"Kyrgyzstan\",163846,146061.0,2335],[\"Vietnam\",157507,43157.0,1306],[\"North Macedonia\",156452,150371.0,5493],[\"Afghanistan\",147501,82586.0,6737],[\"Latvia\",138899,135583.0,2556],[\"Norway\",137853,17998.0,799],[\"Estonia\",133685,128902.0,1272],[\"Albania\",133121,130243.0,2457],[\"Uzbekistan\",130216,123995.0,880],[\"Mozambique\",123541,90845.0,1462],[\"Namibia\",119285,95913.0,3057],[\"Zimbabwe\",109546,76665.0,3583],[\"Kosovo\",108465,105660.0,2269],[\"Finland\",107321,46000.0,985],[\"Botswana\",106690,95323.0,1569],[\"China\",105149,99150.0,4848],[\"Ghana\",103019,97213.0,823],[\"Cyprus\",102223,39061.0,422],[\"Montenegro\",102092,99011.0,1630],[\"Uganda\",94195,84052.0,2696],[\"El Salvador\",86620,76265.0,2641],[\"Cameroon\",82064,35261.0,1334],[\"Cambodia\",77914,70754.0,1420],[\"Maldives\",77547,74758.0,221],[\"Luxembourg\",73870,71867.0,822],[\"Rwanda\",71346,44856.0,821],[\"Singapore\",65102,62957.0,37],[\"Senegal\",63002,47579.0,1367],[\"Jamaica\",53237,47001.0,1196],[\"Malawi\",52631,38147.0,1661],[\"Cote d'Ivoire\",50278,49389.0,330],[\"Congo (Kinshasa)\",49917,29994.0,1038],[\"Angola\",42815,37397.0,1016],[\"Madagascar\",42665,41151.0,943],[\"Trinidad and Tobago\",38930,31941.0,1084],[\"Sudan\",37138,30647.0,2776],[\"Australia\",34612,24124.0,925],[\"Malta\",34375,31843.0,423],[\"Cabo Verde\",33822,33036.0,298],[\"Fiji\",30413,7942.0,241],[\"Eswatini\",26220,21047.0,798],[\"Syria\",25983,21995.0,1916],[\"Mauritania\",25973,22406.0,567],[\"Guinea\",25801,24242.0,229],[\"Suriname\",25402,21770.0,651],[\"Gabon\",25384,25166.0,164],[\"Guyana\",22523,21183.0,541],[\"Haiti\",20077,12961.0,545],[\"Seychelles\",18362,17538.0,86],[\"Papua New Guinea\",17717,17324.0,192],[\"Togo\",15870,14493.0,153],[\"Taiwan*\",15688,12879.0,789],[\"Tajikistan\",15550,14556.0,122],[\"Somalia\",15456,7567.0,813],[\"Bahamas\",14840,12606.0,287],[\"Andorra\",14678,14210.0,128],[\"Mali\",14587,13948.0,533],[\"Belize\",14163,13420.0,337],[\"Lesotho\",13603,6664.0,377],[\"Burkina Faso\",13588,13369.0,169],[\"Congo (Brazzaville)\",13186,12421.0,178],[\"Djibouti\",11652,11490.0,156],[\"South Sudan\",11049,10514.0,119],[\"Timor-Leste\",10966,9911.0,26],[\"Nicaragua\",9470,4225.0,195],[\"Equatorial Guinea\",8880,8637.0,123],[\"Benin\",8394,8136.0,108],[\"Iceland\",8051,6795.0,30],[\"Gambia\",7709,6600.0,212],[\"Central African Republic\",7151,6859.0,98],[\"Burundi\",7080,773.0,9],[\"Yemen\",7070,4200.0,1377],[\"Laos\",6566,3030.0,7],[\"Eritrea\",6547,6444.0,35],[\"Sierra Leone\",6283,4270.0,120],[\"Niger\",5637,5345.0,195],[\"Saint Lucia\",5610,5377.0,89],[\"Liberia\",5404,2715.0,148],[\"San Marino\",5143,5005.0,90],[\"Chad\",4973,4793.0,174],[\"Guinea-Bissau\",4498,3968.0,76],[\"Barbados\",4407,4229.0,48],[\"Comoros\",4028,3869.0,147],[\"Mauritius\",3913,1854.0,19],[\"Liechtenstein\",3085,3009.0,59],[\"Monaco\",2891,2715.0,33],[\"New Zealand\",2878,2814.0,26],[\"Bhutan\",2518,2384.0,2],[\"Sao Tome and Principe\",2454,2358.0,37],[\"Saint Vincent and the Grenadines\",2291,2229.0,12],[\"Antigua and Barbuda\",1303,1235.0,43],[\"Tanzania\",1017,183.0,21],[\"Diamond Princess\",712,699.0,13],[\"Saint Kitts and Nevis\",594,546.0,3],[\"Brunei\",337,280.0,3],[\"Summer Olympics 2020\",264,0.0,0],[\"Dominica\",218,209.0,0],[\"Grenada\",164,161.0,1],[\"Holy See\",27,27.0,0],[\"Solomon Islands\",20,20.0,0],[\"MS Zaandam\",9,7.0,2],[\"Vanuatu\",4,3.0,1],[\"Marshall Islands\",4,4.0,0],[\"Samoa\",3,3.0,0],[\"Kiribati\",2,0.0,0],[\"Micronesia\",1,1.0,0],[\"Palau\",0,0.0,0]],\"geo\":\"geo\",\"hovertemplate\":\"<b>%{hovertext}</b><br><br>Confirmed=%{marker.color:,.0f}<br>Recovered=%{customdata[2]:,.0f}<br>Deaths=%{customdata[3]:,.0f}<extra></extra>\",\"hovertext\":[\"US\",\"India\",\"Brazil\",\"France\",\"Russia\",\"United Kingdom\",\"Turkey\",\"Argentina\",\"Colombia\",\"Spain\",\"Italy\",\"Iran\",\"Germany\",\"Indonesia\",\"Poland\",\"Mexico\",\"South Africa\",\"Ukraine\",\"Peru\",\"Netherlands\",\"Czechia\",\"Iraq\",\"Chile\",\"Philippines\",\"Canada\",\"Bangladesh\",\"Malaysia\",\"Belgium\",\"Sweden\",\"Romania\",\"Pakistan\",\"Portugal\",\"Japan\",\"Israel\",\"Hungary\",\"Jordan\",\"Serbia\",\"Switzerland\",\"Nepal\",\"United Arab Emirates\",\"Austria\",\"Kazakhstan\",\"Morocco\",\"Thailand\",\"Tunisia\",\"Lebanon\",\"Saudi Arabia\",\"Greece\",\"Ecuador\",\"Bolivia\",\"Paraguay\",\"Belarus\",\"Panama\",\"Bulgaria\",\"Georgia\",\"Costa Rica\",\"Kuwait\",\"Cuba\",\"Slovakia\",\"Uruguay\",\"Guatemala\",\"Croatia\",\"Azerbaijan\",\"Dominican Republic\",\"Denmark\",\"West Bank and Gaza\",\"Sri Lanka\",\"Venezuela\",\"Burma\",\"Ireland\",\"Honduras\",\"Oman\",\"Egypt\",\"Lithuania\",\"Ethiopia\",\"Bahrain\",\"Moldova\",\"Slovenia\",\"Libya\",\"Armenia\",\"Qatar\",\"Bosnia and Herzegovina\",\"Kenya\",\"Korea, South\",\"Zambia\",\"Nigeria\",\"Algeria\",\"Mongolia\",\"Kyrgyzstan\",\"Vietnam\",\"North Macedonia\",\"Afghanistan\",\"Latvia\",\"Norway\",\"Estonia\",\"Albania\",\"Uzbekistan\",\"Mozambique\",\"Namibia\",\"Zimbabwe\",\"Kosovo\",\"Finland\",\"Botswana\",\"China\",\"Ghana\",\"Cyprus\",\"Montenegro\",\"Uganda\",\"El Salvador\",\"Cameroon\",\"Cambodia\",\"Maldives\",\"Luxembourg\",\"Rwanda\",\"Singapore\",\"Senegal\",\"Jamaica\",\"Malawi\",\"Cote d'Ivoire\",\"Congo (Kinshasa)\",\"Angola\",\"Madagascar\",\"Trinidad and Tobago\",\"Sudan\",\"Australia\",\"Malta\",\"Cabo Verde\",\"Fiji\",\"Eswatini\",\"Syria\",\"Mauritania\",\"Guinea\",\"Suriname\",\"Gabon\",\"Guyana\",\"Haiti\",\"Seychelles\",\"Papua New Guinea\",\"Togo\",\"Taiwan*\",\"Tajikistan\",\"Somalia\",\"Bahamas\",\"Andorra\",\"Mali\",\"Belize\",\"Lesotho\",\"Burkina Faso\",\"Congo (Brazzaville)\",\"Djibouti\",\"South Sudan\",\"Timor-Leste\",\"Nicaragua\",\"Equatorial Guinea\",\"Benin\",\"Iceland\",\"Gambia\",\"Central African Republic\",\"Burundi\",\"Yemen\",\"Laos\",\"Eritrea\",\"Sierra Leone\",\"Niger\",\"Saint Lucia\",\"Liberia\",\"San Marino\",\"Chad\",\"Guinea-Bissau\",\"Barbados\",\"Comoros\",\"Mauritius\",\"Liechtenstein\",\"Monaco\",\"New Zealand\",\"Bhutan\",\"Sao Tome and Principe\",\"Saint Vincent and the Grenadines\",\"Antigua and Barbuda\",\"Tanzania\",\"Diamond Princess\",\"Saint Kitts and Nevis\",\"Brunei\",\"Summer Olympics 2020\",\"Dominica\",\"Grenada\",\"Holy See\",\"Solomon Islands\",\"MS Zaandam\",\"Vanuatu\",\"Marshall Islands\",\"Samoa\",\"Kiribati\",\"Micronesia\",\"Palau\"],\"legendgroup\":\"\",\"locationmode\":\"country names\",\"locations\":[\"US\",\"India\",\"Brazil\",\"France\",\"Russia\",\"United Kingdom\",\"Turkey\",\"Argentina\",\"Colombia\",\"Spain\",\"Italy\",\"Iran\",\"Germany\",\"Indonesia\",\"Poland\",\"Mexico\",\"South Africa\",\"Ukraine\",\"Peru\",\"Netherlands\",\"Czechia\",\"Iraq\",\"Chile\",\"Philippines\",\"Canada\",\"Bangladesh\",\"Malaysia\",\"Belgium\",\"Sweden\",\"Romania\",\"Pakistan\",\"Portugal\",\"Japan\",\"Israel\",\"Hungary\",\"Jordan\",\"Serbia\",\"Switzerland\",\"Nepal\",\"United Arab Emirates\",\"Austria\",\"Kazakhstan\",\"Morocco\",\"Thailand\",\"Tunisia\",\"Lebanon\",\"Saudi Arabia\",\"Greece\",\"Ecuador\",\"Bolivia\",\"Paraguay\",\"Belarus\",\"Panama\",\"Bulgaria\",\"Georgia\",\"Costa Rica\",\"Kuwait\",\"Cuba\",\"Slovakia\",\"Uruguay\",\"Guatemala\",\"Croatia\",\"Azerbaijan\",\"Dominican Republic\",\"Denmark\",\"West Bank and Gaza\",\"Sri Lanka\",\"Venezuela\",\"Burma\",\"Ireland\",\"Honduras\",\"Oman\",\"Egypt\",\"Lithuania\",\"Ethiopia\",\"Bahrain\",\"Moldova\",\"Slovenia\",\"Libya\",\"Armenia\",\"Qatar\",\"Bosnia and Herzegovina\",\"Kenya\",\"Korea, South\",\"Zambia\",\"Nigeria\",\"Algeria\",\"Mongolia\",\"Kyrgyzstan\",\"Vietnam\",\"North Macedonia\",\"Afghanistan\",\"Latvia\",\"Norway\",\"Estonia\",\"Albania\",\"Uzbekistan\",\"Mozambique\",\"Namibia\",\"Zimbabwe\",\"Kosovo\",\"Finland\",\"Botswana\",\"China\",\"Ghana\",\"Cyprus\",\"Montenegro\",\"Uganda\",\"El Salvador\",\"Cameroon\",\"Cambodia\",\"Maldives\",\"Luxembourg\",\"Rwanda\",\"Singapore\",\"Senegal\",\"Jamaica\",\"Malawi\",\"Cote d'Ivoire\",\"Congo (Kinshasa)\",\"Angola\",\"Madagascar\",\"Trinidad and Tobago\",\"Sudan\",\"Australia\",\"Malta\",\"Cabo Verde\",\"Fiji\",\"Eswatini\",\"Syria\",\"Mauritania\",\"Guinea\",\"Suriname\",\"Gabon\",\"Guyana\",\"Haiti\",\"Seychelles\",\"Papua New Guinea\",\"Togo\",\"Taiwan*\",\"Tajikistan\",\"Somalia\",\"Bahamas\",\"Andorra\",\"Mali\",\"Belize\",\"Lesotho\",\"Burkina Faso\",\"Congo (Brazzaville)\",\"Djibouti\",\"South Sudan\",\"Timor-Leste\",\"Nicaragua\",\"Equatorial Guinea\",\"Benin\",\"Iceland\",\"Gambia\",\"Central African Republic\",\"Burundi\",\"Yemen\",\"Laos\",\"Eritrea\",\"Sierra Leone\",\"Niger\",\"Saint Lucia\",\"Liberia\",\"San Marino\",\"Chad\",\"Guinea-Bissau\",\"Barbados\",\"Comoros\",\"Mauritius\",\"Liechtenstein\",\"Monaco\",\"New Zealand\",\"Bhutan\",\"Sao Tome and Principe\",\"Saint Vincent and the Grenadines\",\"Antigua and Barbuda\",\"Tanzania\",\"Diamond Princess\",\"Saint Kitts and Nevis\",\"Brunei\",\"Summer Olympics 2020\",\"Dominica\",\"Grenada\",\"Holy See\",\"Solomon Islands\",\"MS Zaandam\",\"Vanuatu\",\"Marshall Islands\",\"Samoa\",\"Kiribati\",\"Micronesia\",\"Palau\"],\"marker\":{\"color\":[35003424,31695958,19938358,6210335,6207513,5907594,5747935,4935847,4794414,4447044,4355348,3903519,3778277,3440396,2883029,2854992,2456184,2334433,2113201,1897729,1673694,1635993,1616942,1597689,1438817,1264328,1130422,1124715,1100040,1083341,1039695,970937,937348,875801,809491,771753,722221,717665,697370,682377,659508,649207,629717,615314,595532,562527,526814,494907,487598,473899,452698,446998,436475,425148,422188,406814,398538,394343,392704,381569,369626,363758,344520,342267,318807,316861,311349,306673,302665,302074,297111,296835,284311,283016,280565,269303,259549,259273,253436,230339,226390,205655,203680,201002,196293,174315,172564,164155,163846,157507,156452,147501,138899,137853,133685,133121,130216,123541,119285,109546,108465,107321,106690,105149,103019,102223,102092,94195,86620,82064,77914,77547,73870,71346,65102,63002,53237,52631,50278,49917,42815,42665,38930,37138,34612,34375,33822,30413,26220,25983,25973,25801,25402,25384,22523,20077,18362,17717,15870,15688,15550,15456,14840,14678,14587,14163,13603,13588,13186,11652,11049,10966,9470,8880,8394,8051,7709,7151,7080,7070,6566,6547,6283,5637,5610,5404,5143,4973,4498,4407,4028,3913,3085,2891,2878,2518,2454,2291,1303,1017,712,594,337,264,218,164,27,20,9,4,4,3,2,1,0],\"coloraxis\":\"coloraxis\",\"size\":[35003424,31695958,19938358,6210335,6207513,5907594,5747935,4935847,4794414,4447044,4355348,3903519,3778277,3440396,2883029,2854992,2456184,2334433,2113201,1897729,1673694,1635993,1616942,1597689,1438817,1264328,1130422,1124715,1100040,1083341,1039695,970937,937348,875801,809491,771753,722221,717665,697370,682377,659508,649207,629717,615314,595532,562527,526814,494907,487598,473899,452698,446998,436475,425148,422188,406814,398538,394343,392704,381569,369626,363758,344520,342267,318807,316861,311349,306673,302665,302074,297111,296835,284311,283016,280565,269303,259549,259273,253436,230339,226390,205655,203680,201002,196293,174315,172564,164155,163846,157507,156452,147501,138899,137853,133685,133121,130216,123541,119285,109546,108465,107321,106690,105149,103019,102223,102092,94195,86620,82064,77914,77547,73870,71346,65102,63002,53237,52631,50278,49917,42815,42665,38930,37138,34612,34375,33822,30413,26220,25983,25973,25801,25402,25384,22523,20077,18362,17717,15870,15688,15550,15456,14840,14678,14587,14163,13603,13588,13186,11652,11049,10966,9470,8880,8394,8051,7709,7151,7080,7070,6566,6547,6283,5637,5610,5404,5143,4973,4498,4407,4028,3913,3085,2891,2878,2518,2454,2291,1303,1017,712,594,337,264,218,164,27,20,9,4,4,3,2,1,0],\"sizemode\":\"area\",\"sizeref\":14001.3696,\"symbol\":\"circle\"},\"mode\":\"markers\",\"name\":\"\",\"showlegend\":false,\"type\":\"scattergeo\"}],                        {\"coloraxis\":{\"colorbar\":{\"title\":{\"text\":\"Confirmed\"}},\"colorscale\":[[0.0,\"#0d0887\"],[0.1111111111111111,\"#46039f\"],[0.2222222222222222,\"#7201a8\"],[0.3333333333333333,\"#9c179e\"],[0.4444444444444444,\"#bd3786\"],[0.5555555555555556,\"#d8576b\"],[0.6666666666666666,\"#ed7953\"],[0.7777777777777778,\"#fb9f3a\"],[0.8888888888888888,\"#fdca26\"],[1.0,\"#f0f921\"]]},\"geo\":{\"center\":{},\"domain\":{\"x\":[0.0,1.0],\"y\":[0.0,1.0]}},\"legend\":{\"itemsizing\":\"constant\",\"tracegroupgap\":0},\"margin\":{\"t\":60},\"template\":{\"data\":{\"bar\":[{\"error_x\":{\"color\":\"#f2f5fa\"},\"error_y\":{\"color\":\"#f2f5fa\"},\"marker\":{\"line\":{\"color\":\"rgb(17,17,17)\",\"width\":0.5},\"pattern\":{\"fillmode\":\"overlay\",\"size\":10,\"solidity\":0.2}},\"type\":\"bar\"}],\"barpolar\":[{\"marker\":{\"line\":{\"color\":\"rgb(17,17,17)\",\"width\":0.5},\"pattern\":{\"fillmode\":\"overlay\",\"size\":10,\"solidity\":0.2}},\"type\":\"barpolar\"}],\"carpet\":[{\"aaxis\":{\"endlinecolor\":\"#A2B1C6\",\"gridcolor\":\"#506784\",\"linecolor\":\"#506784\",\"minorgridcolor\":\"#506784\",\"startlinecolor\":\"#A2B1C6\"},\"baxis\":{\"endlinecolor\":\"#A2B1C6\",\"gridcolor\":\"#506784\",\"linecolor\":\"#506784\",\"minorgridcolor\":\"#506784\",\"startlinecolor\":\"#A2B1C6\"},\"type\":\"carpet\"}],\"choropleth\":[{\"colorbar\":{\"outlinewidth\":0,\"ticks\":\"\"},\"type\":\"choropleth\"}],\"contour\":[{\"colorbar\":{\"outlinewidth\":0,\"ticks\":\"\"},\"colorscale\":[[0.0,\"#0d0887\"],[0.1111111111111111,\"#46039f\"],[0.2222222222222222,\"#7201a8\"],[0.3333333333333333,\"#9c179e\"],[0.4444444444444444,\"#bd3786\"],[0.5555555555555556,\"#d8576b\"],[0.6666666666666666,\"#ed7953\"],[0.7777777777777778,\"#fb9f3a\"],[0.8888888888888888,\"#fdca26\"],[1.0,\"#f0f921\"]],\"type\":\"contour\"}],\"contourcarpet\":[{\"colorbar\":{\"outlinewidth\":0,\"ticks\":\"\"},\"type\":\"contourcarpet\"}],\"heatmap\":[{\"colorbar\":{\"outlinewidth\":0,\"ticks\":\"\"},\"colorscale\":[[0.0,\"#0d0887\"],[0.1111111111111111,\"#46039f\"],[0.2222222222222222,\"#7201a8\"],[0.3333333333333333,\"#9c179e\"],[0.4444444444444444,\"#bd3786\"],[0.5555555555555556,\"#d8576b\"],[0.6666666666666666,\"#ed7953\"],[0.7777777777777778,\"#fb9f3a\"],[0.8888888888888888,\"#fdca26\"],[1.0,\"#f0f921\"]],\"type\":\"heatmap\"}],\"heatmapgl\":[{\"colorbar\":{\"outlinewidth\":0,\"ticks\":\"\"},\"colorscale\":[[0.0,\"#0d0887\"],[0.1111111111111111,\"#46039f\"],[0.2222222222222222,\"#7201a8\"],[0.3333333333333333,\"#9c179e\"],[0.4444444444444444,\"#bd3786\"],[0.5555555555555556,\"#d8576b\"],[0.6666666666666666,\"#ed7953\"],[0.7777777777777778,\"#fb9f3a\"],[0.8888888888888888,\"#fdca26\"],[1.0,\"#f0f921\"]],\"type\":\"heatmapgl\"}],\"histogram\":[{\"marker\":{\"pattern\":{\"fillmode\":\"overlay\",\"size\":10,\"solidity\":0.2}},\"type\":\"histogram\"}],\"histogram2d\":[{\"colorbar\":{\"outlinewidth\":0,\"ticks\":\"\"},\"colorscale\":[[0.0,\"#0d0887\"],[0.1111111111111111,\"#46039f\"],[0.2222222222222222,\"#7201a8\"],[0.3333333333333333,\"#9c179e\"],[0.4444444444444444,\"#bd3786\"],[0.5555555555555556,\"#d8576b\"],[0.6666666666666666,\"#ed7953\"],[0.7777777777777778,\"#fb9f3a\"],[0.8888888888888888,\"#fdca26\"],[1.0,\"#f0f921\"]],\"type\":\"histogram2d\"}],\"histogram2dcontour\":[{\"colorbar\":{\"outlinewidth\":0,\"ticks\":\"\"},\"colorscale\":[[0.0,\"#0d0887\"],[0.1111111111111111,\"#46039f\"],[0.2222222222222222,\"#7201a8\"],[0.3333333333333333,\"#9c179e\"],[0.4444444444444444,\"#bd3786\"],[0.5555555555555556,\"#d8576b\"],[0.6666666666666666,\"#ed7953\"],[0.7777777777777778,\"#fb9f3a\"],[0.8888888888888888,\"#fdca26\"],[1.0,\"#f0f921\"]],\"type\":\"histogram2dcontour\"}],\"mesh3d\":[{\"colorbar\":{\"outlinewidth\":0,\"ticks\":\"\"},\"type\":\"mesh3d\"}],\"parcoords\":[{\"line\":{\"colorbar\":{\"outlinewidth\":0,\"ticks\":\"\"}},\"type\":\"parcoords\"}],\"pie\":[{\"automargin\":true,\"type\":\"pie\"}],\"scatter\":[{\"marker\":{\"line\":{\"color\":\"#283442\"}},\"type\":\"scatter\"}],\"scatter3d\":[{\"line\":{\"colorbar\":{\"outlinewidth\":0,\"ticks\":\"\"}},\"marker\":{\"colorbar\":{\"outlinewidth\":0,\"ticks\":\"\"}},\"type\":\"scatter3d\"}],\"scattercarpet\":[{\"marker\":{\"colorbar\":{\"outlinewidth\":0,\"ticks\":\"\"}},\"type\":\"scattercarpet\"}],\"scattergeo\":[{\"marker\":{\"colorbar\":{\"outlinewidth\":0,\"ticks\":\"\"}},\"type\":\"scattergeo\"}],\"scattergl\":[{\"marker\":{\"line\":{\"color\":\"#283442\"}},\"type\":\"scattergl\"}],\"scattermapbox\":[{\"marker\":{\"colorbar\":{\"outlinewidth\":0,\"ticks\":\"\"}},\"type\":\"scattermapbox\"}],\"scatterpolar\":[{\"marker\":{\"colorbar\":{\"outlinewidth\":0,\"ticks\":\"\"}},\"type\":\"scatterpolar\"}],\"scatterpolargl\":[{\"marker\":{\"colorbar\":{\"outlinewidth\":0,\"ticks\":\"\"}},\"type\":\"scatterpolargl\"}],\"scatterternary\":[{\"marker\":{\"colorbar\":{\"outlinewidth\":0,\"ticks\":\"\"}},\"type\":\"scatterternary\"}],\"surface\":[{\"colorbar\":{\"outlinewidth\":0,\"ticks\":\"\"},\"colorscale\":[[0.0,\"#0d0887\"],[0.1111111111111111,\"#46039f\"],[0.2222222222222222,\"#7201a8\"],[0.3333333333333333,\"#9c179e\"],[0.4444444444444444,\"#bd3786\"],[0.5555555555555556,\"#d8576b\"],[0.6666666666666666,\"#ed7953\"],[0.7777777777777778,\"#fb9f3a\"],[0.8888888888888888,\"#fdca26\"],[1.0,\"#f0f921\"]],\"type\":\"surface\"}],\"table\":[{\"cells\":{\"fill\":{\"color\":\"#506784\"},\"line\":{\"color\":\"rgb(17,17,17)\"}},\"header\":{\"fill\":{\"color\":\"#2a3f5f\"},\"line\":{\"color\":\"rgb(17,17,17)\"}},\"type\":\"table\"}]},\"layout\":{\"annotationdefaults\":{\"arrowcolor\":\"#f2f5fa\",\"arrowhead\":0,\"arrowwidth\":1},\"autotypenumbers\":\"strict\",\"coloraxis\":{\"colorbar\":{\"outlinewidth\":0,\"ticks\":\"\"}},\"colorscale\":{\"diverging\":[[0,\"#8e0152\"],[0.1,\"#c51b7d\"],[0.2,\"#de77ae\"],[0.3,\"#f1b6da\"],[0.4,\"#fde0ef\"],[0.5,\"#f7f7f7\"],[0.6,\"#e6f5d0\"],[0.7,\"#b8e186\"],[0.8,\"#7fbc41\"],[0.9,\"#4d9221\"],[1,\"#276419\"]],\"sequential\":[[0.0,\"#0d0887\"],[0.1111111111111111,\"#46039f\"],[0.2222222222222222,\"#7201a8\"],[0.3333333333333333,\"#9c179e\"],[0.4444444444444444,\"#bd3786\"],[0.5555555555555556,\"#d8576b\"],[0.6666666666666666,\"#ed7953\"],[0.7777777777777778,\"#fb9f3a\"],[0.8888888888888888,\"#fdca26\"],[1.0,\"#f0f921\"]],\"sequentialminus\":[[0.0,\"#0d0887\"],[0.1111111111111111,\"#46039f\"],[0.2222222222222222,\"#7201a8\"],[0.3333333333333333,\"#9c179e\"],[0.4444444444444444,\"#bd3786\"],[0.5555555555555556,\"#d8576b\"],[0.6666666666666666,\"#ed7953\"],[0.7777777777777778,\"#fb9f3a\"],[0.8888888888888888,\"#fdca26\"],[1.0,\"#f0f921\"]]},\"colorway\":[\"#636efa\",\"#EF553B\",\"#00cc96\",\"#ab63fa\",\"#FFA15A\",\"#19d3f3\",\"#FF6692\",\"#B6E880\",\"#FF97FF\",\"#FECB52\"],\"font\":{\"color\":\"#f2f5fa\"},\"geo\":{\"bgcolor\":\"rgb(17,17,17)\",\"lakecolor\":\"rgb(17,17,17)\",\"landcolor\":\"rgb(17,17,17)\",\"showlakes\":true,\"showland\":true,\"subunitcolor\":\"#506784\"},\"hoverlabel\":{\"align\":\"left\"},\"hovermode\":\"closest\",\"mapbox\":{\"style\":\"dark\"},\"paper_bgcolor\":\"rgb(17,17,17)\",\"plot_bgcolor\":\"rgb(17,17,17)\",\"polar\":{\"angularaxis\":{\"gridcolor\":\"#506784\",\"linecolor\":\"#506784\",\"ticks\":\"\"},\"bgcolor\":\"rgb(17,17,17)\",\"radialaxis\":{\"gridcolor\":\"#506784\",\"linecolor\":\"#506784\",\"ticks\":\"\"}},\"scene\":{\"xaxis\":{\"backgroundcolor\":\"rgb(17,17,17)\",\"gridcolor\":\"#506784\",\"gridwidth\":2,\"linecolor\":\"#506784\",\"showbackground\":true,\"ticks\":\"\",\"zerolinecolor\":\"#C8D4E3\"},\"yaxis\":{\"backgroundcolor\":\"rgb(17,17,17)\",\"gridcolor\":\"#506784\",\"gridwidth\":2,\"linecolor\":\"#506784\",\"showbackground\":true,\"ticks\":\"\",\"zerolinecolor\":\"#C8D4E3\"},\"zaxis\":{\"backgroundcolor\":\"rgb(17,17,17)\",\"gridcolor\":\"#506784\",\"gridwidth\":2,\"linecolor\":\"#506784\",\"showbackground\":true,\"ticks\":\"\",\"zerolinecolor\":\"#C8D4E3\"}},\"shapedefaults\":{\"line\":{\"color\":\"#f2f5fa\"}},\"sliderdefaults\":{\"bgcolor\":\"#C8D4E3\",\"bordercolor\":\"rgb(17,17,17)\",\"borderwidth\":1,\"tickwidth\":0},\"ternary\":{\"aaxis\":{\"gridcolor\":\"#506784\",\"linecolor\":\"#506784\",\"ticks\":\"\"},\"baxis\":{\"gridcolor\":\"#506784\",\"linecolor\":\"#506784\",\"ticks\":\"\"},\"bgcolor\":\"rgb(17,17,17)\",\"caxis\":{\"gridcolor\":\"#506784\",\"linecolor\":\"#506784\",\"ticks\":\"\"}},\"title\":{\"x\":0.05},\"updatemenudefaults\":{\"bgcolor\":\"#506784\",\"borderwidth\":0},\"xaxis\":{\"automargin\":true,\"gridcolor\":\"#283442\",\"linecolor\":\"#506784\",\"ticks\":\"\",\"title\":{\"standoff\":15},\"zerolinecolor\":\"#283442\",\"zerolinewidth\":2},\"yaxis\":{\"automargin\":true,\"gridcolor\":\"#283442\",\"linecolor\":\"#506784\",\"ticks\":\"\",\"title\":{\"standoff\":15},\"zerolinecolor\":\"#283442\",\"zerolinewidth\":2}}}},                        {\"responsive\": true}                    ).then(function(){\n",
       "                            \n",
       "var gd = document.getElementById('973fd59c-7cdd-4b8b-a2bb-d0594f24df7d');\n",
       "var x = new MutationObserver(function (mutations, observer) {{\n",
       "        var display = window.getComputedStyle(gd).display;\n",
       "        if (!display || display === 'none') {{\n",
       "            console.log([gd, 'removed!']);\n",
       "            Plotly.purge(gd);\n",
       "            observer.disconnect();\n",
       "        }}\n",
       "}});\n",
       "\n",
       "// Listen for the removal of the full notebook cells\n",
       "var notebookContainer = gd.closest('#notebook-container');\n",
       "if (notebookContainer) {{\n",
       "    x.observe(notebookContainer, {childList: true});\n",
       "}}\n",
       "\n",
       "// Listen for the clearing of the current output cell\n",
       "var outputEl = gd.closest('.output');\n",
       "if (outputEl) {{\n",
       "    x.observe(outputEl, {childList: true});\n",
       "}}\n",
       "\n",
       "                        })                };                });            </script>        </div>"
      ]
     },
     "metadata": {},
     "output_type": "display_data"
    }
   ],
   "source": [
    "import plotly.express as px\n",
    "from data import countries_df\n",
    "\n",
    "print(countries_df)\n",
    "\n",
    "map_figure = px.scatter_geo(countries_df, \n",
    "                            locations=\"Country_Region\", \n",
    "                            locationmode=\"country names\", \n",
    "                            color=\"Confirmed\", \n",
    "                            hover_name=\"Country_Region\", \n",
    "                            hover_data={\n",
    "                                \"Country_Region\": False,\n",
    "                                \"Confirmed\" : \":,.0f\", \n",
    "                                \"Recovered\": \":,.0f\", \n",
    "                                \"Deaths\": \":,.0f\"\n",
    "                            },\n",
    "                            size=\"Confirmed\",\n",
    "                            size_max=50,\n",
    "                            template=\"plotly_dark\"\n",
    "                           )\n",
    "map_figure"
   ]
  }
 ],
 "metadata": {
  "kernelspec": {
   "display_name": "Python 3 (ipykernel)",
   "language": "python",
   "name": "python3"
  },
  "language_info": {
   "codemirror_mode": {
    "name": "ipython",
    "version": 3
   },
   "file_extension": ".py",
   "mimetype": "text/x-python",
   "name": "python",
   "nbconvert_exporter": "python",
   "pygments_lexer": "ipython3",
   "version": "3.9.7"
  }
 },
 "nbformat": 4,
 "nbformat_minor": 5
}
